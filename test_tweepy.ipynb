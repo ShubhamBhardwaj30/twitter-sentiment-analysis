{
 "cells": [
  {
   "cell_type": "code",
   "execution_count": 1,
   "source": [
    "import os\r\n",
    "import tweepy as tw\r\n",
    "import pandas as pd"
   ],
   "outputs": [],
   "metadata": {}
  },
  {
   "cell_type": "code",
   "execution_count": 2,
   "source": [
    "consumer_key=os.environ.get('consumer_key')\r\n",
    "consumer_secret= os.environ.get('consumer_secret')\r\n",
    "access_token= os.environ.get('access_token')\r\n",
    "access_token_secret= os.environ.get('access_token_secret')"
   ],
   "outputs": [],
   "metadata": {}
  },
  {
   "cell_type": "code",
   "execution_count": 3,
   "source": [
    "auth = tw.OAuthHandler(consumer_key, consumer_secret)\r\n",
    "auth.set_access_token(access_token, access_token_secret)\r\n",
    "api = tw.API(auth, wait_on_rate_limit=True)"
   ],
   "outputs": [],
   "metadata": {}
  },
  {
   "cell_type": "code",
   "execution_count": 4,
   "source": [
    "search_words = \"#neerajchopra\"\r\n",
    "date_since = \"2018-08-01\""
   ],
   "outputs": [],
   "metadata": {}
  },
  {
   "cell_type": "code",
   "execution_count": 5,
   "source": [
    "tweets = tw.Cursor(api.search,\r\n",
    "              q=search_words,\r\n",
    "              lang=\"en\",\r\n",
    "              since=date_since).items(100)\r\n",
    "df = pd.DataFrame({})\r\n",
    "# Iterate and print tweets\r\n",
    "for tweet in tweets:\r\n",
    "    df = df.append(tweet._json, ignore_index=True)"
   ],
   "outputs": [],
   "metadata": {}
  },
  {
   "cell_type": "code",
   "execution_count": null,
   "source": [
    "display(df)"
   ],
   "outputs": [],
   "metadata": {}
  },
  {
   "cell_type": "code",
   "execution_count": 7,
   "source": [
    "df.loc[0].text"
   ],
   "outputs": [
    {
     "output_type": "execute_result",
     "data": {
      "text/plain": [
       "'RT @sidharth_shukla: You do us proud boy!!!  #NeerajChopra a billion thanks for bringing home the #Gold'"
      ]
     },
     "metadata": {},
     "execution_count": 7
    }
   ],
   "metadata": {}
  },
  {
   "cell_type": "code",
   "execution_count": null,
   "source": [],
   "outputs": [],
   "metadata": {}
  }
 ],
 "metadata": {
  "orig_nbformat": 4,
  "language_info": {
   "name": "python",
   "version": "3.9.6",
   "mimetype": "text/x-python",
   "codemirror_mode": {
    "name": "ipython",
    "version": 3
   },
   "pygments_lexer": "ipython3",
   "nbconvert_exporter": "python",
   "file_extension": ".py"
  },
  "kernelspec": {
   "name": "python3",
   "display_name": "Python 3.9.6 64-bit ('env': venv)"
  },
  "interpreter": {
   "hash": "b3454382d79d3c886ca106ee8a76cb7875b5b96be55222db1214ad22b2f5a336"
  }
 },
 "nbformat": 4,
 "nbformat_minor": 2
}